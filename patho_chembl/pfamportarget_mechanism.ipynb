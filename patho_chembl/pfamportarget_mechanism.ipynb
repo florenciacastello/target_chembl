{
 "cells": [
  {
   "cell_type": "markdown",
   "metadata": {},
   "source": [
    "### Pruebas para detectar pfam promedio por target en chembl"
   ]
  },
  {
   "cell_type": "code",
   "execution_count": 1,
   "metadata": {},
   "outputs": [],
   "source": [
    "from sqlalchemy import create_engine\n",
    "import pandas as pd\n",
    "import numpy as np\n",
    "from importlib import reload"
   ]
  },
  {
   "cell_type": "code",
   "execution_count": 2,
   "metadata": {},
   "outputs": [],
   "source": [
    "import pandas as pd\n",
    "import numpy as np\n",
    "import collections"
   ]
  },
  {
   "cell_type": "markdown",
   "metadata": {},
   "source": [
    "### Database connexion"
   ]
  },
  {
   "cell_type": "code",
   "execution_count": 3,
   "metadata": {},
   "outputs": [],
   "source": [
    "# Personal login details in correct format for sqlalchemy\n",
    "\n",
    "pepe =\"sqlite:////home/fleer/Desktop/Tesis/Chembldb/chembl_27/chembl_27_sqlite/chembl_27/chembl_27_sqlite/chembl_27.db\"\n",
    "engine = create_engine(pepe)\n",
    "CHEMBL_VERSION = 27"
   ]
  },
  {
   "cell_type": "code",
   "execution_count": 8,
   "metadata": {},
   "outputs": [],
   "source": [
    "sql = '''\n",
    "SELECT td.chembl_id as target_chemblid, \n",
    "       a2.pchembl_value, a2.activity_comment, \n",
    "       md.chembl_id as compound_chemblid, \n",
    "       source_domain_id, \n",
    "       dm.mec_id\n",
    "FROM drug_mechanism dm\n",
    "    JOIN binding_sites bs on bs.tid = dm.tid\n",
    "    JOIN target_dictionary td ON td.tid = bs.tid \n",
    "    JOIN site_components sc ON sc.site_id =bs.site_id\n",
    "    JOIN domains d2 ON d2.domain_id = sc.domain_id\n",
    "    JOIN activities a2 ON dm.molregno = a2.molregno\n",
    "    JOIN molecule_dictionary md ON md.molregno = dm.molregno\n",
    "    JOIN compound_properties cp ON cp.molregno = md.molregno\n",
    "    JOIN compound_records cr ON cr.molregno = cp.molregno\n",
    "WHERE a2.src_id = 15\n",
    "    AND a2.standard_type = 'IC50'\n",
    "    AND dm.mec_id IS NOT NULL \n",
    "    AND a2.activity_comment LIKE 'Active'\n",
    "    AND cp.PSA IS NOT NULL\n",
    "UNION \n",
    "SELECT td.chembl_id as target_chemblid, \n",
    "       a2.pchembl_value, a2.activity_comment, \n",
    "       md.chembl_id as compound_chemblid, \n",
    "       source_domain_id, \n",
    "       dm.mec_id\n",
    "FROM drug_mechanism dm\n",
    "    JOIN binding_sites bs on bs.tid = dm.tid\n",
    "    JOIN target_dictionary td ON td.tid = bs.tid \n",
    "    JOIN site_components sc ON sc.site_id =bs.site_id\n",
    "    JOIN domains d2 ON d2.domain_id = sc.domain_id\n",
    "    JOIN activities a2 ON dm.molregno = a2.molregno\n",
    "    JOIN molecule_dictionary md ON md.molregno = dm.molregno\n",
    "    JOIN compound_properties cp ON cp.molregno = md.molregno\n",
    "    JOIN compound_records cr ON cr.molregno = cp.molregno\n",
    "WHERE a2.src_id = 15\n",
    "    AND a2.standard_type = 'IC50'\n",
    "    AND dm.mec_id IS NOT NULL \n",
    "    AND a2.pchembl_value >= 6.0\n",
    "    AND cp.PSA IS NOT NULL;\n",
    "  '''\n",
    "df = pd.read_sql(sql, engine)"
   ]
  },
  {
   "cell_type": "code",
   "execution_count": 9,
   "metadata": {},
   "outputs": [
    {
     "data": {
      "text/plain": [
       "(556, 6)"
      ]
     },
     "execution_count": 9,
     "metadata": {},
     "output_type": "execute_result"
    }
   ],
   "source": [
    "df.shape"
   ]
  },
  {
   "cell_type": "code",
   "execution_count": 10,
   "metadata": {},
   "outputs": [
    {
     "data": {
      "text/html": [
       "<div>\n",
       "<style scoped>\n",
       "    .dataframe tbody tr th:only-of-type {\n",
       "        vertical-align: middle;\n",
       "    }\n",
       "\n",
       "    .dataframe tbody tr th {\n",
       "        vertical-align: top;\n",
       "    }\n",
       "\n",
       "    .dataframe thead th {\n",
       "        text-align: right;\n",
       "    }\n",
       "</style>\n",
       "<table border=\"1\" class=\"dataframe\">\n",
       "  <thead>\n",
       "    <tr style=\"text-align: right;\">\n",
       "      <th></th>\n",
       "      <th>target_chemblid</th>\n",
       "      <th>pchembl_value</th>\n",
       "      <th>activity_comment</th>\n",
       "      <th>compound_chemblid</th>\n",
       "      <th>source_domain_id</th>\n",
       "      <th>mec_id</th>\n",
       "    </tr>\n",
       "  </thead>\n",
       "  <tbody>\n",
       "    <tr>\n",
       "      <th>0</th>\n",
       "      <td>CHEMBL1798</td>\n",
       "      <td>6.27</td>\n",
       "      <td>None</td>\n",
       "      <td>CHEMBL603</td>\n",
       "      <td>PF00001</td>\n",
       "      <td>71</td>\n",
       "    </tr>\n",
       "    <tr>\n",
       "      <th>1</th>\n",
       "      <td>CHEMBL1798</td>\n",
       "      <td>6.45</td>\n",
       "      <td>None</td>\n",
       "      <td>CHEMBL603</td>\n",
       "      <td>PF00001</td>\n",
       "      <td>71</td>\n",
       "    </tr>\n",
       "    <tr>\n",
       "      <th>2</th>\n",
       "      <td>CHEMBL1798</td>\n",
       "      <td>8.76</td>\n",
       "      <td>None</td>\n",
       "      <td>CHEMBL603</td>\n",
       "      <td>PF00001</td>\n",
       "      <td>71</td>\n",
       "    </tr>\n",
       "    <tr>\n",
       "      <th>3</th>\n",
       "      <td>CHEMBL1808</td>\n",
       "      <td>6.89</td>\n",
       "      <td>None</td>\n",
       "      <td>CHEMBL1560</td>\n",
       "      <td>PF01401</td>\n",
       "      <td>114</td>\n",
       "    </tr>\n",
       "    <tr>\n",
       "      <th>4</th>\n",
       "      <td>CHEMBL1856</td>\n",
       "      <td>6.00</td>\n",
       "      <td>None</td>\n",
       "      <td>CHEMBL710</td>\n",
       "      <td>PF02544</td>\n",
       "      <td>266</td>\n",
       "    </tr>\n",
       "  </tbody>\n",
       "</table>\n",
       "</div>"
      ],
      "text/plain": [
       "  target_chemblid  pchembl_value activity_comment compound_chemblid  \\\n",
       "0      CHEMBL1798           6.27             None         CHEMBL603   \n",
       "1      CHEMBL1798           6.45             None         CHEMBL603   \n",
       "2      CHEMBL1798           8.76             None         CHEMBL603   \n",
       "3      CHEMBL1808           6.89             None        CHEMBL1560   \n",
       "4      CHEMBL1856           6.00             None         CHEMBL710   \n",
       "\n",
       "  source_domain_id  mec_id  \n",
       "0          PF00001      71  \n",
       "1          PF00001      71  \n",
       "2          PF00001      71  \n",
       "3          PF01401     114  \n",
       "4          PF02544     266  "
      ]
     },
     "execution_count": 10,
     "metadata": {},
     "output_type": "execute_result"
    }
   ],
   "source": [
    "df.head()"
   ]
  },
  {
   "cell_type": "code",
   "execution_count": 11,
   "metadata": {},
   "outputs": [
    {
     "data": {
      "text/plain": [
       "(120, 6)"
      ]
     },
     "execution_count": 11,
     "metadata": {},
     "output_type": "execute_result"
    }
   ],
   "source": [
    "df=df.drop_duplicates(subset= ['target_chemblid', 'source_domain_id', 'compound_chemblid'])\n",
    "df.shape"
   ]
  },
  {
   "cell_type": "code",
   "execution_count": 13,
   "metadata": {},
   "outputs": [],
   "source": [
    "df.to_csv(r'/home/fleer/Desktop/pfamid_mec_df_nodup.csv') #paso intermedio"
   ]
  },
  {
   "cell_type": "code",
   "execution_count": 14,
   "metadata": {},
   "outputs": [],
   "source": [
    "grouped_df = df.groupby(\"target_chemblid\")\n",
    "grouped_pfam = grouped_df[\"source_domain_id\"].apply(list)\n"
   ]
  },
  {
   "cell_type": "code",
   "execution_count": 15,
   "metadata": {},
   "outputs": [
    {
     "data": {
      "text/html": [
       "<div>\n",
       "<style scoped>\n",
       "    .dataframe tbody tr th:only-of-type {\n",
       "        vertical-align: middle;\n",
       "    }\n",
       "\n",
       "    .dataframe tbody tr th {\n",
       "        vertical-align: top;\n",
       "    }\n",
       "\n",
       "    .dataframe thead th {\n",
       "        text-align: right;\n",
       "    }\n",
       "</style>\n",
       "<table border=\"1\" class=\"dataframe\">\n",
       "  <thead>\n",
       "    <tr style=\"text-align: right;\">\n",
       "      <th></th>\n",
       "      <th>target_chemblid</th>\n",
       "      <th>source_domain_id</th>\n",
       "      <th>Domain_key</th>\n",
       "    </tr>\n",
       "  </thead>\n",
       "  <tbody>\n",
       "    <tr>\n",
       "      <th>0</th>\n",
       "      <td>CHEMBL1798</td>\n",
       "      <td>[PF00001]</td>\n",
       "      <td>PF00001</td>\n",
       "    </tr>\n",
       "    <tr>\n",
       "      <th>1</th>\n",
       "      <td>CHEMBL1808</td>\n",
       "      <td>[PF01401]</td>\n",
       "      <td>PF01401</td>\n",
       "    </tr>\n",
       "    <tr>\n",
       "      <th>2</th>\n",
       "      <td>CHEMBL1856</td>\n",
       "      <td>[PF02544]</td>\n",
       "      <td>PF02544</td>\n",
       "    </tr>\n",
       "    <tr>\n",
       "      <th>3</th>\n",
       "      <td>CHEMBL1871</td>\n",
       "      <td>[PF00104, PF00104, PF00104, PF00104, PF00104, ...</td>\n",
       "      <td>PF00104</td>\n",
       "    </tr>\n",
       "    <tr>\n",
       "      <th>4</th>\n",
       "      <td>CHEMBL1875</td>\n",
       "      <td>[PF00001]</td>\n",
       "      <td>PF00001</td>\n",
       "    </tr>\n",
       "  </tbody>\n",
       "</table>\n",
       "</div>"
      ],
      "text/plain": [
       "  target_chemblid                                   source_domain_id  \\\n",
       "0      CHEMBL1798                                          [PF00001]   \n",
       "1      CHEMBL1808                                          [PF01401]   \n",
       "2      CHEMBL1856                                          [PF02544]   \n",
       "3      CHEMBL1871  [PF00104, PF00104, PF00104, PF00104, PF00104, ...   \n",
       "4      CHEMBL1875                                          [PF00001]   \n",
       "\n",
       "  Domain_key  \n",
       "0    PF00001  \n",
       "1    PF01401  \n",
       "2    PF02544  \n",
       "3    PF00104  \n",
       "4    PF00001  "
      ]
     },
     "execution_count": 15,
     "metadata": {},
     "output_type": "execute_result"
    }
   ],
   "source": [
    "grouped_df = df.groupby(\"target_chemblid\")\n",
    "grouped_pfam = grouped_df[\"source_domain_id\"].apply(list)\n",
    "grouped_pfam = grouped_pfam.reset_index()\n",
    "grouped_pfam['Domain_key']=['_'.join(sorted(set(x))) for x in grouped_pfam.source_domain_id]\n",
    "grouped_pfam.head()\n",
    "\n"
   ]
  },
  {
   "cell_type": "code",
   "execution_count": 16,
   "metadata": {},
   "outputs": [
    {
     "data": {
      "text/html": [
       "<div>\n",
       "<style scoped>\n",
       "    .dataframe tbody tr th:only-of-type {\n",
       "        vertical-align: middle;\n",
       "    }\n",
       "\n",
       "    .dataframe tbody tr th {\n",
       "        vertical-align: top;\n",
       "    }\n",
       "\n",
       "    .dataframe thead th {\n",
       "        text-align: right;\n",
       "    }\n",
       "</style>\n",
       "<table border=\"1\" class=\"dataframe\">\n",
       "  <thead>\n",
       "    <tr style=\"text-align: right;\">\n",
       "      <th></th>\n",
       "      <th>target_chemblid</th>\n",
       "      <th>source_domain_id</th>\n",
       "      <th>Domain_key</th>\n",
       "      <th>compound_chemblid</th>\n",
       "    </tr>\n",
       "  </thead>\n",
       "  <tbody>\n",
       "    <tr>\n",
       "      <th>0</th>\n",
       "      <td>CHEMBL1798</td>\n",
       "      <td>[PF00001]</td>\n",
       "      <td>PF00001</td>\n",
       "      <td>[CHEMBL603]</td>\n",
       "    </tr>\n",
       "    <tr>\n",
       "      <th>1</th>\n",
       "      <td>CHEMBL1808</td>\n",
       "      <td>[PF01401]</td>\n",
       "      <td>PF01401</td>\n",
       "      <td>[CHEMBL1560]</td>\n",
       "    </tr>\n",
       "    <tr>\n",
       "      <th>2</th>\n",
       "      <td>CHEMBL1856</td>\n",
       "      <td>[PF02544]</td>\n",
       "      <td>PF02544</td>\n",
       "      <td>[CHEMBL710]</td>\n",
       "    </tr>\n",
       "    <tr>\n",
       "      <th>3</th>\n",
       "      <td>CHEMBL1871</td>\n",
       "      <td>[PF00104, PF00104, PF00104, PF00104, PF00104, ...</td>\n",
       "      <td>PF00104</td>\n",
       "      <td>[CHEMBL1479, CHEMBL1200623, CHEMBL1395, CHEMBL...</td>\n",
       "    </tr>\n",
       "    <tr>\n",
       "      <th>4</th>\n",
       "      <td>CHEMBL1875</td>\n",
       "      <td>[PF00001]</td>\n",
       "      <td>PF00001</td>\n",
       "      <td>[CHEMBL1729]</td>\n",
       "    </tr>\n",
       "  </tbody>\n",
       "</table>\n",
       "</div>"
      ],
      "text/plain": [
       "  target_chemblid                                   source_domain_id  \\\n",
       "0      CHEMBL1798                                          [PF00001]   \n",
       "1      CHEMBL1808                                          [PF01401]   \n",
       "2      CHEMBL1856                                          [PF02544]   \n",
       "3      CHEMBL1871  [PF00104, PF00104, PF00104, PF00104, PF00104, ...   \n",
       "4      CHEMBL1875                                          [PF00001]   \n",
       "\n",
       "  Domain_key                                  compound_chemblid  \n",
       "0    PF00001                                        [CHEMBL603]  \n",
       "1    PF01401                                       [CHEMBL1560]  \n",
       "2    PF02544                                        [CHEMBL710]  \n",
       "3    PF00104  [CHEMBL1479, CHEMBL1200623, CHEMBL1395, CHEMBL...  \n",
       "4    PF00001                                       [CHEMBL1729]  "
      ]
     },
     "execution_count": 16,
     "metadata": {},
     "output_type": "execute_result"
    }
   ],
   "source": [
    "grouped_compound = grouped_df[\"compound_chemblid\"].apply(list)\n",
    "grouped_compound = grouped_compound.reset_index()\n",
    "#grouped_compound.head()\n",
    "result = pd.merge(grouped_pfam, grouped_compound, how='left', on=['target_chemblid'])\n",
    "result.head()"
   ]
  },
  {
   "cell_type": "code",
   "execution_count": null,
   "metadata": {},
   "outputs": [],
   "source": []
  },
  {
   "cell_type": "code",
   "execution_count": 18,
   "metadata": {},
   "outputs": [],
   "source": [
    "result.to_csv ( r'/home/fleer/Desktop/pfamid_chembl27_mech.csv')"
   ]
  },
  {
   "cell_type": "markdown",
   "metadata": {},
   "source": [
    "### Analisis"
   ]
  },
  {
   "cell_type": "code",
   "execution_count": 8,
   "metadata": {},
   "outputs": [
    {
     "data": {
      "text/html": [
       "<div>\n",
       "<style scoped>\n",
       "    .dataframe tbody tr th:only-of-type {\n",
       "        vertical-align: middle;\n",
       "    }\n",
       "\n",
       "    .dataframe tbody tr th {\n",
       "        vertical-align: top;\n",
       "    }\n",
       "\n",
       "    .dataframe thead th {\n",
       "        text-align: right;\n",
       "    }\n",
       "</style>\n",
       "<table border=\"1\" class=\"dataframe\">\n",
       "  <thead>\n",
       "    <tr style=\"text-align: right;\">\n",
       "      <th></th>\n",
       "      <th>source_domain_id</th>\n",
       "      <th>compound_chemblid</th>\n",
       "      <th>pchembl_value</th>\n",
       "      <th>activity_comment</th>\n",
       "    </tr>\n",
       "    <tr>\n",
       "      <th>target_chemblid</th>\n",
       "      <th></th>\n",
       "      <th></th>\n",
       "      <th></th>\n",
       "      <th></th>\n",
       "    </tr>\n",
       "  </thead>\n",
       "  <tbody>\n",
       "    <tr>\n",
       "      <th>CHEMBL1075021</th>\n",
       "      <td>132</td>\n",
       "      <td>132</td>\n",
       "      <td>132</td>\n",
       "      <td>0</td>\n",
       "    </tr>\n",
       "    <tr>\n",
       "      <th>CHEMBL1075022</th>\n",
       "      <td>88</td>\n",
       "      <td>88</td>\n",
       "      <td>88</td>\n",
       "      <td>0</td>\n",
       "    </tr>\n",
       "    <tr>\n",
       "      <th>CHEMBL1075023</th>\n",
       "      <td>3</td>\n",
       "      <td>3</td>\n",
       "      <td>3</td>\n",
       "      <td>0</td>\n",
       "    </tr>\n",
       "    <tr>\n",
       "      <th>CHEMBL1075024</th>\n",
       "      <td>17</td>\n",
       "      <td>17</td>\n",
       "      <td>17</td>\n",
       "      <td>0</td>\n",
       "    </tr>\n",
       "    <tr>\n",
       "      <th>CHEMBL1075025</th>\n",
       "      <td>16</td>\n",
       "      <td>16</td>\n",
       "      <td>16</td>\n",
       "      <td>0</td>\n",
       "    </tr>\n",
       "  </tbody>\n",
       "</table>\n",
       "</div>"
      ],
      "text/plain": [
       "                 source_domain_id  compound_chemblid  pchembl_value  \\\n",
       "target_chemblid                                                       \n",
       "CHEMBL1075021                 132                132            132   \n",
       "CHEMBL1075022                  88                 88             88   \n",
       "CHEMBL1075023                   3                  3              3   \n",
       "CHEMBL1075024                  17                 17             17   \n",
       "CHEMBL1075025                  16                 16             16   \n",
       "\n",
       "                 activity_comment  \n",
       "target_chemblid                    \n",
       "CHEMBL1075021                   0  \n",
       "CHEMBL1075022                   0  \n",
       "CHEMBL1075023                   0  \n",
       "CHEMBL1075024                   0  \n",
       "CHEMBL1075025                   0  "
      ]
     },
     "execution_count": 8,
     "metadata": {},
     "output_type": "execute_result"
    }
   ],
   "source": [
    "sum_df = df.groupby(\"target_chemblid\").count()\n",
    "sum_df.head()"
   ]
  },
  {
   "cell_type": "code",
   "execution_count": 9,
   "metadata": {},
   "outputs": [
    {
     "data": {
      "text/plain": [
       "(5729, 4)"
      ]
     },
     "execution_count": 9,
     "metadata": {},
     "output_type": "execute_result"
    }
   ],
   "source": [
    "sum_df.shape"
   ]
  },
  {
   "cell_type": "code",
   "execution_count": null,
   "metadata": {
    "scrolled": false
   },
   "outputs": [],
   "source": [
    "ax = sum_df.hist(column= 'pchembl_value', bins=200, figsize=(18, 18)) #grafico de numero de pfamid por chembl id"
   ]
  },
  {
   "cell_type": "code",
   "execution_count": null,
   "metadata": {},
   "outputs": [],
   "source": []
  },
  {
   "cell_type": "code",
   "execution_count": null,
   "metadata": {},
   "outputs": [],
   "source": [
    "\"source_domain_id\", "
   ]
  }
 ],
 "metadata": {
  "kernelspec": {
   "display_name": "Python 3",
   "language": "python",
   "name": "python3"
  },
  "language_info": {
   "codemirror_mode": {
    "name": "ipython",
    "version": 3
   },
   "file_extension": ".py",
   "mimetype": "text/x-python",
   "name": "python",
   "nbconvert_exporter": "python",
   "pygments_lexer": "ipython3",
   "version": "3.6.7"
  }
 },
 "nbformat": 4,
 "nbformat_minor": 4
}
