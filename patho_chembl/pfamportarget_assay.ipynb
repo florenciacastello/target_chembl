{
 "cells": [
  {
   "cell_type": "markdown",
   "metadata": {},
   "source": [
    "### Pruebas para detectar pfam promedio por target en chembl"
   ]
  },
  {
   "cell_type": "code",
   "execution_count": 1,
   "metadata": {},
   "outputs": [],
   "source": [
    "from sqlalchemy import create_engine\n",
    "import pandas as pd\n",
    "import numpy as np\n",
    "from importlib import reload"
   ]
  },
  {
   "cell_type": "code",
   "execution_count": 2,
   "metadata": {},
   "outputs": [],
   "source": [
    "import pandas as pd\n",
    "import numpy as np\n",
    "import collections"
   ]
  },
  {
   "cell_type": "markdown",
   "metadata": {},
   "source": [
    "### Database connexion"
   ]
  },
  {
   "cell_type": "code",
   "execution_count": 3,
   "metadata": {},
   "outputs": [],
   "source": [
    "# Personal login details in correct format for sqlalchemy\n",
    "\n",
    "pepe =\"sqlite:////home/fleer/Desktop/Tesis/Chembldb/chembl_27/chembl_27_sqlite/chembl_27/chembl_27_sqlite/chembl_27.db\"\n",
    "engine = create_engine(pepe)\n",
    "CHEMBL_VERSION = 27"
   ]
  },
  {
   "cell_type": "code",
   "execution_count": 4,
   "metadata": {},
   "outputs": [],
   "source": [
    "sql = '''\n",
    "SELECT \n",
    "    g.chembl_id as target_chemblid, \n",
    "    source_domain_id, \n",
    "    c.chembl_id as compound_chemblid, \n",
    "    a.pchembl_value, \n",
    "    a.activity_comment\n",
    "FROM\n",
    "  ACTIVITIES a \n",
    "  JOIN MOLECULE_HIERARCHY b ON a.MOLREGNO = b.MOLREGNO\n",
    "  JOIN MOLECULE_DICTIONARY c ON b.PARENT_MOLREGNO = c.MOLREGNO\n",
    "  JOIN COMPOUND_PROPERTIES d ON b.PARENT_MOLREGNO = d.MOLREGNO\n",
    "  JOIN COMPOUND_STRUCTURES e ON b.PARENT_MOLREGNO = e.MOLREGNO\n",
    "  JOIN ASSAYS f ON a.ASSAY_ID = f.ASSAY_ID\n",
    "  JOIN TARGET_DICTIONARY g ON f.TID = g.TID\n",
    "  JOIN DOCS h ON a.DOC_ID = h.DOC_ID\n",
    "  JOIN TARGET_COMPONENTS i ON g.tid = i.tid\n",
    "  JOIN COMPONENT_CLASS j ON i.component_id = j.component_id\n",
    "  JOIN PROTEIN_CLASSIFICATION k ON j.protein_class_id = k.protein_class_id\n",
    "  JOIN component_domains ON component_domains.component_ID = i.component_ID\n",
    "  JOIN domains ON domains.domain_ID = component_domains.domain_ID\n",
    "  JOIN compound_records ON a.record_ID = compound_records.record_ID\n",
    "WHERE\n",
    "   a.pchembl_value >= 6.0\n",
    "   AND (a.potential_duplicate = 0 OR a.potential_duplicate IS NULL)\n",
    "   AND a.data_validity_comment IS NULL\n",
    "   AND assay_type = 'B'\n",
    "   AND d.psa IS NOT NULL  \n",
    "UNION\n",
    "SELECT \n",
    "    g.chembl_id as target_chemblid, \n",
    "    source_domain_id, \n",
    "    c.chembl_id as compound_chemblid, \n",
    "    a.pchembl_value, \n",
    "    a.activity_comment\n",
    "FROM\n",
    "  ACTIVITIES a \n",
    "  JOIN MOLECULE_HIERARCHY b ON a.MOLREGNO = b.MOLREGNO\n",
    "  JOIN MOLECULE_DICTIONARY c ON b.PARENT_MOLREGNO = c.MOLREGNO\n",
    "  JOIN COMPOUND_PROPERTIES d ON b.PARENT_MOLREGNO = d.MOLREGNO\n",
    "  JOIN COMPOUND_STRUCTURES e ON b.PARENT_MOLREGNO = e.MOLREGNO\n",
    "  JOIN ASSAYS f ON a.ASSAY_ID = f.ASSAY_ID\n",
    "  JOIN TARGET_DICTIONARY g ON f.TID = g.TID\n",
    "  JOIN DOCS h ON a.DOC_ID = h.DOC_ID\n",
    "  JOIN TARGET_COMPONENTS i ON g.tid = i.tid\n",
    "  JOIN COMPONENT_CLASS j ON i.component_id = j.component_id\n",
    "  JOIN PROTEIN_CLASSIFICATION k ON j.protein_class_id = k.protein_class_id\n",
    "  JOIN component_domains ON component_domains.component_ID = i.component_ID\n",
    "  JOIN domains ON domains.domain_ID = component_domains.domain_ID\n",
    "  JOIN compound_records ON a.record_ID = compound_records.record_ID\n",
    "WHERE\n",
    "    a.activity_comment LIKE 'Active'\n",
    "   AND (a.potential_duplicate = 0 OR a.potential_duplicate IS NULL)\n",
    "   AND a.data_validity_comment IS NULL\n",
    "   AND assay_type = 'B'\n",
    "   AND d.psa IS NOT NULL\n",
    "   AND g.target_type IN ('SINGLE PROTEIN', 'PROTEIN COMPLEX');\n",
    "  '''\n",
    "df = pd.read_sql(sql, engine)"
   ]
  },
  {
   "cell_type": "code",
   "execution_count": 5,
   "metadata": {},
   "outputs": [
    {
     "data": {
      "text/plain": [
       "(1694147, 5)"
      ]
     },
     "execution_count": 5,
     "metadata": {},
     "output_type": "execute_result"
    }
   ],
   "source": [
    "df.shape"
   ]
  },
  {
   "cell_type": "code",
   "execution_count": 6,
   "metadata": {},
   "outputs": [
    {
     "data": {
      "text/html": [
       "<div>\n",
       "<style scoped>\n",
       "    .dataframe tbody tr th:only-of-type {\n",
       "        vertical-align: middle;\n",
       "    }\n",
       "\n",
       "    .dataframe tbody tr th {\n",
       "        vertical-align: top;\n",
       "    }\n",
       "\n",
       "    .dataframe thead th {\n",
       "        text-align: right;\n",
       "    }\n",
       "</style>\n",
       "<table border=\"1\" class=\"dataframe\">\n",
       "  <thead>\n",
       "    <tr style=\"text-align: right;\">\n",
       "      <th></th>\n",
       "      <th>target_chemblid</th>\n",
       "      <th>source_domain_id</th>\n",
       "      <th>compound_chemblid</th>\n",
       "      <th>pchembl_value</th>\n",
       "      <th>activity_comment</th>\n",
       "    </tr>\n",
       "  </thead>\n",
       "  <tbody>\n",
       "    <tr>\n",
       "      <th>0</th>\n",
       "      <td>CHEMBL1075021</td>\n",
       "      <td>PF00204</td>\n",
       "      <td>CHEMBL36506</td>\n",
       "      <td>7.43</td>\n",
       "      <td>None</td>\n",
       "    </tr>\n",
       "    <tr>\n",
       "      <th>1</th>\n",
       "      <td>CHEMBL1075021</td>\n",
       "      <td>PF00204</td>\n",
       "      <td>CHEMBL565572</td>\n",
       "      <td>6.79</td>\n",
       "      <td>None</td>\n",
       "    </tr>\n",
       "    <tr>\n",
       "      <th>2</th>\n",
       "      <td>CHEMBL1075021</td>\n",
       "      <td>PF00204</td>\n",
       "      <td>CHEMBL565741</td>\n",
       "      <td>6.59</td>\n",
       "      <td>None</td>\n",
       "    </tr>\n",
       "    <tr>\n",
       "      <th>3</th>\n",
       "      <td>CHEMBL1075021</td>\n",
       "      <td>PF00204</td>\n",
       "      <td>CHEMBL565743</td>\n",
       "      <td>6.42</td>\n",
       "      <td>None</td>\n",
       "    </tr>\n",
       "    <tr>\n",
       "      <th>4</th>\n",
       "      <td>CHEMBL1075021</td>\n",
       "      <td>PF00204</td>\n",
       "      <td>CHEMBL565750</td>\n",
       "      <td>7.29</td>\n",
       "      <td>None</td>\n",
       "    </tr>\n",
       "  </tbody>\n",
       "</table>\n",
       "</div>"
      ],
      "text/plain": [
       "  target_chemblid source_domain_id compound_chemblid  pchembl_value  \\\n",
       "0   CHEMBL1075021          PF00204       CHEMBL36506           7.43   \n",
       "1   CHEMBL1075021          PF00204      CHEMBL565572           6.79   \n",
       "2   CHEMBL1075021          PF00204      CHEMBL565741           6.59   \n",
       "3   CHEMBL1075021          PF00204      CHEMBL565743           6.42   \n",
       "4   CHEMBL1075021          PF00204      CHEMBL565750           7.29   \n",
       "\n",
       "  activity_comment  \n",
       "0             None  \n",
       "1             None  \n",
       "2             None  \n",
       "3             None  \n",
       "4             None  "
      ]
     },
     "execution_count": 6,
     "metadata": {},
     "output_type": "execute_result"
    }
   ],
   "source": [
    "df.head()"
   ]
  },
  {
   "cell_type": "code",
   "execution_count": 7,
   "metadata": {},
   "outputs": [
    {
     "data": {
      "text/plain": [
       "(1452780, 5)"
      ]
     },
     "execution_count": 7,
     "metadata": {},
     "output_type": "execute_result"
    }
   ],
   "source": [
    "df=df.drop_duplicates(subset= ['target_chemblid', 'source_domain_id', 'compound_chemblid'])\n",
    "df.shape"
   ]
  },
  {
   "cell_type": "code",
   "execution_count": 8,
   "metadata": {},
   "outputs": [],
   "source": [
    "df.to_csv(r'/home/fleer/Desktop/Target_chembl/pfam_mol/pfamid_assay_df_nodup.csv') #paso intermedio"
   ]
  },
  {
   "cell_type": "code",
   "execution_count": 9,
   "metadata": {},
   "outputs": [],
   "source": [
    "grouped_df = df.groupby(\"target_chemblid\")\n",
    "grouped_pfam = grouped_df[\"source_domain_id\"].apply(list)\n"
   ]
  },
  {
   "cell_type": "code",
   "execution_count": 10,
   "metadata": {},
   "outputs": [
    {
     "data": {
      "text/html": [
       "<div>\n",
       "<style scoped>\n",
       "    .dataframe tbody tr th:only-of-type {\n",
       "        vertical-align: middle;\n",
       "    }\n",
       "\n",
       "    .dataframe tbody tr th {\n",
       "        vertical-align: top;\n",
       "    }\n",
       "\n",
       "    .dataframe thead th {\n",
       "        text-align: right;\n",
       "    }\n",
       "</style>\n",
       "<table border=\"1\" class=\"dataframe\">\n",
       "  <thead>\n",
       "    <tr style=\"text-align: right;\">\n",
       "      <th></th>\n",
       "      <th>target_chemblid</th>\n",
       "      <th>source_domain_id</th>\n",
       "      <th>Domain_key</th>\n",
       "    </tr>\n",
       "  </thead>\n",
       "  <tbody>\n",
       "    <tr>\n",
       "      <th>0</th>\n",
       "      <td>CHEMBL1075021</td>\n",
       "      <td>[PF00204, PF00204, PF00204, PF00204, PF00204, ...</td>\n",
       "      <td>PF00204_PF00986_PF01751_PF02518</td>\n",
       "    </tr>\n",
       "    <tr>\n",
       "      <th>1</th>\n",
       "      <td>CHEMBL1075022</td>\n",
       "      <td>[PF00204, PF00204, PF00204, PF00204, PF00204, ...</td>\n",
       "      <td>PF00204_PF00986_PF01751_PF02518</td>\n",
       "    </tr>\n",
       "    <tr>\n",
       "      <th>2</th>\n",
       "      <td>CHEMBL1075023</td>\n",
       "      <td>[PF01048, PF01048, PF01048]</td>\n",
       "      <td>PF01048</td>\n",
       "    </tr>\n",
       "    <tr>\n",
       "      <th>3</th>\n",
       "      <td>CHEMBL1075024</td>\n",
       "      <td>[PF03060, PF03060, PF03060, PF03060, PF03060, ...</td>\n",
       "      <td>PF03060</td>\n",
       "    </tr>\n",
       "    <tr>\n",
       "      <th>4</th>\n",
       "      <td>CHEMBL1075025</td>\n",
       "      <td>[PF01255, PF01255, PF01255, PF01255, PF01255, ...</td>\n",
       "      <td>PF01255</td>\n",
       "    </tr>\n",
       "  </tbody>\n",
       "</table>\n",
       "</div>"
      ],
      "text/plain": [
       "  target_chemblid                                   source_domain_id  \\\n",
       "0   CHEMBL1075021  [PF00204, PF00204, PF00204, PF00204, PF00204, ...   \n",
       "1   CHEMBL1075022  [PF00204, PF00204, PF00204, PF00204, PF00204, ...   \n",
       "2   CHEMBL1075023                        [PF01048, PF01048, PF01048]   \n",
       "3   CHEMBL1075024  [PF03060, PF03060, PF03060, PF03060, PF03060, ...   \n",
       "4   CHEMBL1075025  [PF01255, PF01255, PF01255, PF01255, PF01255, ...   \n",
       "\n",
       "                        Domain_key  \n",
       "0  PF00204_PF00986_PF01751_PF02518  \n",
       "1  PF00204_PF00986_PF01751_PF02518  \n",
       "2                          PF01048  \n",
       "3                          PF03060  \n",
       "4                          PF01255  "
      ]
     },
     "execution_count": 10,
     "metadata": {},
     "output_type": "execute_result"
    }
   ],
   "source": [
    "grouped_df = df.groupby(\"target_chemblid\")\n",
    "grouped_pfam = grouped_df[\"source_domain_id\"].apply(list)\n",
    "grouped_pfam = grouped_pfam.reset_index()\n",
    "grouped_pfam['Domain_key']=['_'.join(sorted(set(x))) for x in grouped_pfam.source_domain_id]\n",
    "grouped_pfam.head()\n",
    "\n"
   ]
  },
  {
   "cell_type": "code",
   "execution_count": 11,
   "metadata": {},
   "outputs": [
    {
     "data": {
      "text/html": [
       "<div>\n",
       "<style scoped>\n",
       "    .dataframe tbody tr th:only-of-type {\n",
       "        vertical-align: middle;\n",
       "    }\n",
       "\n",
       "    .dataframe tbody tr th {\n",
       "        vertical-align: top;\n",
       "    }\n",
       "\n",
       "    .dataframe thead th {\n",
       "        text-align: right;\n",
       "    }\n",
       "</style>\n",
       "<table border=\"1\" class=\"dataframe\">\n",
       "  <thead>\n",
       "    <tr style=\"text-align: right;\">\n",
       "      <th></th>\n",
       "      <th>target_chemblid</th>\n",
       "      <th>compound_chemblid</th>\n",
       "      <th>source_domain_id</th>\n",
       "      <th>Domain_key</th>\n",
       "    </tr>\n",
       "  </thead>\n",
       "  <tbody>\n",
       "    <tr>\n",
       "      <th>0</th>\n",
       "      <td>CHEMBL1075021</td>\n",
       "      <td>[CHEMBL36506, CHEMBL565572, CHEMBL565741, CHEM...</td>\n",
       "      <td>[PF00204, PF00204, PF00204, PF00204, PF00204, ...</td>\n",
       "      <td>PF00204_PF00986_PF01751_PF02518</td>\n",
       "    </tr>\n",
       "    <tr>\n",
       "      <th>1</th>\n",
       "      <td>CHEMBL1075022</td>\n",
       "      <td>[CHEMBL565572, CHEMBL565750, CHEMBL565765, CHE...</td>\n",
       "      <td>[PF00204, PF00204, PF00204, PF00204, PF00204, ...</td>\n",
       "      <td>PF00204_PF00986_PF01751_PF02518</td>\n",
       "    </tr>\n",
       "    <tr>\n",
       "      <th>2</th>\n",
       "      <td>CHEMBL1075023</td>\n",
       "      <td>[CHEMBL405346, CHEMBL405371, CHEMBL407216]</td>\n",
       "      <td>[PF01048, PF01048, PF01048]</td>\n",
       "      <td>PF01048</td>\n",
       "    </tr>\n",
       "    <tr>\n",
       "      <th>3</th>\n",
       "      <td>CHEMBL1075024</td>\n",
       "      <td>[CHEMBL1206212, CHEMBL175157, CHEMBL235272, CH...</td>\n",
       "      <td>[PF03060, PF03060, PF03060, PF03060, PF03060, ...</td>\n",
       "      <td>PF03060</td>\n",
       "    </tr>\n",
       "    <tr>\n",
       "      <th>4</th>\n",
       "      <td>CHEMBL1075025</td>\n",
       "      <td>[CHEMBL255828, CHEMBL256222, CHEMBL256476, CHE...</td>\n",
       "      <td>[PF01255, PF01255, PF01255, PF01255, PF01255, ...</td>\n",
       "      <td>PF01255</td>\n",
       "    </tr>\n",
       "  </tbody>\n",
       "</table>\n",
       "</div>"
      ],
      "text/plain": [
       "  target_chemblid                                  compound_chemblid  \\\n",
       "0   CHEMBL1075021  [CHEMBL36506, CHEMBL565572, CHEMBL565741, CHEM...   \n",
       "1   CHEMBL1075022  [CHEMBL565572, CHEMBL565750, CHEMBL565765, CHE...   \n",
       "2   CHEMBL1075023         [CHEMBL405346, CHEMBL405371, CHEMBL407216]   \n",
       "3   CHEMBL1075024  [CHEMBL1206212, CHEMBL175157, CHEMBL235272, CH...   \n",
       "4   CHEMBL1075025  [CHEMBL255828, CHEMBL256222, CHEMBL256476, CHE...   \n",
       "\n",
       "                                    source_domain_id  \\\n",
       "0  [PF00204, PF00204, PF00204, PF00204, PF00204, ...   \n",
       "1  [PF00204, PF00204, PF00204, PF00204, PF00204, ...   \n",
       "2                        [PF01048, PF01048, PF01048]   \n",
       "3  [PF03060, PF03060, PF03060, PF03060, PF03060, ...   \n",
       "4  [PF01255, PF01255, PF01255, PF01255, PF01255, ...   \n",
       "\n",
       "                        Domain_key  \n",
       "0  PF00204_PF00986_PF01751_PF02518  \n",
       "1  PF00204_PF00986_PF01751_PF02518  \n",
       "2                          PF01048  \n",
       "3                          PF03060  \n",
       "4                          PF01255  "
      ]
     },
     "execution_count": 11,
     "metadata": {},
     "output_type": "execute_result"
    }
   ],
   "source": [
    "grouped_compound = grouped_df[\"compound_chemblid\"].apply(list)\n",
    "grouped_compound = grouped_compound.reset_index()\n",
    "#grouped_compound.head()\n",
    "result = pd.merge(grouped_compound, grouped_pfam,  how='left', on=['target_chemblid'])\n",
    "result.head()"
   ]
  },
  {
   "cell_type": "code",
   "execution_count": null,
   "metadata": {},
   "outputs": [],
   "source": []
  },
  {
   "cell_type": "code",
   "execution_count": 12,
   "metadata": {},
   "outputs": [],
   "source": [
    "result.to_csv ( r'/home/fleer/Desktop/Target_chembl/pfam_mol/pfamid_chembl27_assay.csv')"
   ]
  },
  {
   "cell_type": "markdown",
   "metadata": {},
   "source": [
    "### Analisis"
   ]
  },
  {
   "cell_type": "code",
   "execution_count": 13,
   "metadata": {},
   "outputs": [
    {
     "data": {
      "text/html": [
       "<div>\n",
       "<style scoped>\n",
       "    .dataframe tbody tr th:only-of-type {\n",
       "        vertical-align: middle;\n",
       "    }\n",
       "\n",
       "    .dataframe tbody tr th {\n",
       "        vertical-align: top;\n",
       "    }\n",
       "\n",
       "    .dataframe thead th {\n",
       "        text-align: right;\n",
       "    }\n",
       "</style>\n",
       "<table border=\"1\" class=\"dataframe\">\n",
       "  <thead>\n",
       "    <tr style=\"text-align: right;\">\n",
       "      <th></th>\n",
       "      <th>source_domain_id</th>\n",
       "      <th>compound_chemblid</th>\n",
       "      <th>pchembl_value</th>\n",
       "      <th>activity_comment</th>\n",
       "    </tr>\n",
       "    <tr>\n",
       "      <th>target_chemblid</th>\n",
       "      <th></th>\n",
       "      <th></th>\n",
       "      <th></th>\n",
       "      <th></th>\n",
       "    </tr>\n",
       "  </thead>\n",
       "  <tbody>\n",
       "    <tr>\n",
       "      <th>CHEMBL1075021</th>\n",
       "      <td>132</td>\n",
       "      <td>132</td>\n",
       "      <td>132</td>\n",
       "      <td>0</td>\n",
       "    </tr>\n",
       "    <tr>\n",
       "      <th>CHEMBL1075022</th>\n",
       "      <td>88</td>\n",
       "      <td>88</td>\n",
       "      <td>88</td>\n",
       "      <td>0</td>\n",
       "    </tr>\n",
       "    <tr>\n",
       "      <th>CHEMBL1075023</th>\n",
       "      <td>3</td>\n",
       "      <td>3</td>\n",
       "      <td>3</td>\n",
       "      <td>0</td>\n",
       "    </tr>\n",
       "    <tr>\n",
       "      <th>CHEMBL1075024</th>\n",
       "      <td>15</td>\n",
       "      <td>15</td>\n",
       "      <td>15</td>\n",
       "      <td>0</td>\n",
       "    </tr>\n",
       "    <tr>\n",
       "      <th>CHEMBL1075025</th>\n",
       "      <td>16</td>\n",
       "      <td>16</td>\n",
       "      <td>16</td>\n",
       "      <td>0</td>\n",
       "    </tr>\n",
       "  </tbody>\n",
       "</table>\n",
       "</div>"
      ],
      "text/plain": [
       "                 source_domain_id  compound_chemblid  pchembl_value  \\\n",
       "target_chemblid                                                       \n",
       "CHEMBL1075021                 132                132            132   \n",
       "CHEMBL1075022                  88                 88             88   \n",
       "CHEMBL1075023                   3                  3              3   \n",
       "CHEMBL1075024                  15                 15             15   \n",
       "CHEMBL1075025                  16                 16             16   \n",
       "\n",
       "                 activity_comment  \n",
       "target_chemblid                    \n",
       "CHEMBL1075021                   0  \n",
       "CHEMBL1075022                   0  \n",
       "CHEMBL1075023                   0  \n",
       "CHEMBL1075024                   0  \n",
       "CHEMBL1075025                   0  "
      ]
     },
     "execution_count": 13,
     "metadata": {},
     "output_type": "execute_result"
    }
   ],
   "source": [
    "sum_df = df.groupby(\"target_chemblid\").count()\n",
    "sum_df.head()"
   ]
  },
  {
   "cell_type": "code",
   "execution_count": 14,
   "metadata": {},
   "outputs": [
    {
     "data": {
      "text/plain": [
       "(5729, 4)"
      ]
     },
     "execution_count": 14,
     "metadata": {},
     "output_type": "execute_result"
    }
   ],
   "source": [
    "sum_df.shape"
   ]
  },
  {
   "cell_type": "code",
   "execution_count": 15,
   "metadata": {
    "scrolled": false
   },
   "outputs": [
    {
     "data": {
      "image/png": "[encoded data removed]",
      "text/plain": [
       "<Figure size 1296x1296 with 1 Axes>"
      ]
     },
     "metadata": {
      "needs_background": "light"
     },
     "output_type": "display_data"
    }
   ],
   "source": [
    "ax = sum_df.hist(column= 'pchembl_value', bins=200, figsize=(18, 18)) #grafico de numero de pfamid por chembl id"
   ]
  },
  {
   "cell_type": "code",
   "execution_count": null,
   "metadata": {},
   "outputs": [],
   "source": []
  },
  {
   "cell_type": "markdown",
   "metadata": {},
   "source": [
    "pre script"
   ]
  },
  {
   "cell_type": "code",
   "execution_count": 39,
   "metadata": {},
   "outputs": [],
   "source": [
    "import pandas as pd\n",
    "from pandas import json_normalize\n",
    "import json\n",
    "import argparse\n",
    "import sys\n",
    "import csv\n",
    "from importlib import reload\n",
    "\n",
    "\n",
    "base_pfam= pd.read_csv ('/home/fleer/Desktop/Target_chembl/pfam_mol/pfamid_chembl27_assay.csv')\n",
    "base_pfam['compound_chemblid']=[eval(x) for x in base_pfam.compound_chemblid]\n",
    "#base_pfam=result\n",
    "#print(base_pfam)\n"
   ]
  },
  {
   "cell_type": "code",
   "execution_count": 59,
   "metadata": {},
   "outputs": [
    {
     "name": "stdout",
     "output_type": "stream",
     "text": [
      "PF00089\n"
     ]
    }
   ],
   "source": [
    "\n",
    "\n",
    "def search_bypfam(target_domains):\n",
    "    confiable=[]\n",
    "   # target_domains=[]\n",
    "    dudoso=[]\n",
    "    if target_domains:\n",
    "        for pfam_id in target_domains:\n",
    "            pfam_id = pfam_id.strip()\n",
    "           # target_domains.append(pfam_id)\n",
    "            print(pfam_id)\n",
    "            for _,record in base_pfam.iterrows():\n",
    "                if record.Domain_key == pfam_id:\n",
    "                    confiable+=record.compound_chemblid\n",
    "                elif pfam_id in record.Domain_key:\n",
    "                    dudoso+=record.compound_chemblid\n",
    "        df_base_pfam=base_pfam[base_pfam.Domain_key==\"_\".join(sorted(set(target_domains)))] #este en una funcion aparte\n",
    "        for compuestos in df_base_pfam.compound_chemblid:\n",
    "            confiable=confiable + compuestos\n",
    "        confiable=set(confiable)\n",
    "        dudoso=set(dudoso)-confiable\n",
    "    return confiable, dudoso\n",
    "\n",
    "   \n",
    "   # df = pd.read_sql(find_pfam, engine)\n",
    "    #return df\n",
    "c, d = search_bypfam(['PF00089' ])"
   ]
  },
  {
   "cell_type": "code",
   "execution_count": null,
   "metadata": {},
   "outputs": [],
   "source": []
  },
  {
   "cell_type": "code",
   "execution_count": 60,
   "metadata": {},
   "outputs": [
    {
     "data": {
      "text/plain": [
       "(5350, 7824)"
      ]
     },
     "execution_count": 60,
     "metadata": {},
     "output_type": "execute_result"
    }
   ],
   "source": [
    "len(c), len(d)"
   ]
  },
  {
   "cell_type": "code",
   "execution_count": 33,
   "metadata": {},
   "outputs": [
    {
     "data": {
      "text/plain": [
       "['CHEMBL36506',\n",
       " 'CHEMBL565572',\n",
       " 'CHEMBL565741',\n",
       " 'CHEMBL565743',\n",
       " 'CHEMBL565750',\n",
       " 'CHEMBL565765',\n",
       " 'CHEMBL565776',\n",
       " 'CHEMBL565971',\n",
       " 'CHEMBL567804',\n",
       " 'CHEMBL568019',\n",
       " 'CHEMBL568020',\n",
       " 'CHEMBL568021',\n",
       " 'CHEMBL568222',\n",
       " 'CHEMBL571734',\n",
       " 'CHEMBL576228',\n",
       " 'CHEMBL577041',\n",
       " 'CHEMBL577053',\n",
       " 'CHEMBL577478',\n",
       " 'CHEMBL577909',\n",
       " 'CHEMBL577922',\n",
       " 'CHEMBL578120',\n",
       " 'CHEMBL578138',\n",
       " 'CHEMBL578149',\n",
       " 'CHEMBL578336',\n",
       " 'CHEMBL578361',\n",
       " 'CHEMBL578362',\n",
       " 'CHEMBL578991',\n",
       " 'CHEMBL578992',\n",
       " 'CHEMBL583049',\n",
       " 'CHEMBL583438',\n",
       " 'CHEMBL583440',\n",
       " 'CHEMBL583870',\n",
       " 'CHEMBL584265',\n",
       " 'CHEMBL36506',\n",
       " 'CHEMBL565572',\n",
       " 'CHEMBL565741',\n",
       " 'CHEMBL565743',\n",
       " 'CHEMBL565750',\n",
       " 'CHEMBL565765',\n",
       " 'CHEMBL565776',\n",
       " 'CHEMBL565971',\n",
       " 'CHEMBL567804',\n",
       " 'CHEMBL568019',\n",
       " 'CHEMBL568020',\n",
       " 'CHEMBL568021',\n",
       " 'CHEMBL568222',\n",
       " 'CHEMBL571734',\n",
       " 'CHEMBL576228',\n",
       " 'CHEMBL577041',\n",
       " 'CHEMBL577053',\n",
       " 'CHEMBL577478',\n",
       " 'CHEMBL577909',\n",
       " 'CHEMBL577922',\n",
       " 'CHEMBL578120',\n",
       " 'CHEMBL578138',\n",
       " 'CHEMBL578149',\n",
       " 'CHEMBL578336',\n",
       " 'CHEMBL578361',\n",
       " 'CHEMBL578362',\n",
       " 'CHEMBL578991',\n",
       " 'CHEMBL578992',\n",
       " 'CHEMBL583049',\n",
       " 'CHEMBL583438',\n",
       " 'CHEMBL583440',\n",
       " 'CHEMBL583870',\n",
       " 'CHEMBL584265',\n",
       " 'CHEMBL36506',\n",
       " 'CHEMBL565572',\n",
       " 'CHEMBL565741',\n",
       " 'CHEMBL565743',\n",
       " 'CHEMBL565750',\n",
       " 'CHEMBL565765',\n",
       " 'CHEMBL565776',\n",
       " 'CHEMBL565971',\n",
       " 'CHEMBL567804',\n",
       " 'CHEMBL568019',\n",
       " 'CHEMBL568020',\n",
       " 'CHEMBL568021',\n",
       " 'CHEMBL568222',\n",
       " 'CHEMBL571734',\n",
       " 'CHEMBL576228',\n",
       " 'CHEMBL577041',\n",
       " 'CHEMBL577053',\n",
       " 'CHEMBL577478',\n",
       " 'CHEMBL577909',\n",
       " 'CHEMBL577922',\n",
       " 'CHEMBL578120',\n",
       " 'CHEMBL578138',\n",
       " 'CHEMBL578149',\n",
       " 'CHEMBL578336',\n",
       " 'CHEMBL578361',\n",
       " 'CHEMBL578362',\n",
       " 'CHEMBL578991',\n",
       " 'CHEMBL578992',\n",
       " 'CHEMBL583049',\n",
       " 'CHEMBL583438',\n",
       " 'CHEMBL583440',\n",
       " 'CHEMBL583870',\n",
       " 'CHEMBL584265',\n",
       " 'CHEMBL36506',\n",
       " 'CHEMBL565572',\n",
       " 'CHEMBL565741',\n",
       " 'CHEMBL565743',\n",
       " 'CHEMBL565750',\n",
       " 'CHEMBL565765',\n",
       " 'CHEMBL565776',\n",
       " 'CHEMBL565971',\n",
       " 'CHEMBL567804',\n",
       " 'CHEMBL568019',\n",
       " 'CHEMBL568020',\n",
       " 'CHEMBL568021',\n",
       " 'CHEMBL568222',\n",
       " 'CHEMBL571734',\n",
       " 'CHEMBL576228',\n",
       " 'CHEMBL577041',\n",
       " 'CHEMBL577053',\n",
       " 'CHEMBL577478',\n",
       " 'CHEMBL577909',\n",
       " 'CHEMBL577922',\n",
       " 'CHEMBL578120',\n",
       " 'CHEMBL578138',\n",
       " 'CHEMBL578149',\n",
       " 'CHEMBL578336',\n",
       " 'CHEMBL578361',\n",
       " 'CHEMBL578362',\n",
       " 'CHEMBL578991',\n",
       " 'CHEMBL578992',\n",
       " 'CHEMBL583049',\n",
       " 'CHEMBL583438',\n",
       " 'CHEMBL583440',\n",
       " 'CHEMBL583870',\n",
       " 'CHEMBL584265']"
      ]
     },
     "execution_count": 33,
     "metadata": {},
     "output_type": "execute_result"
    }
   ],
   "source": [
    "base_pfam['compound_chemblid']=[eval(x) for x in base_pfam.compound_chemblid]\n",
    "base_pfam.compound_chemblid.iloc[0]"
   ]
  },
  {
   "cell_type": "code",
   "execution_count": null,
   "metadata": {},
   "outputs": [],
   "source": []
  }
 ],
 "metadata": {
  "kernelspec": {
   "display_name": "Python 3",
   "language": "python",
   "name": "python3"
  },
  "language_info": {
   "codemirror_mode": {
    "name": "ipython",
    "version": 3
   },
   "file_extension": ".py",
   "mimetype": "text/x-python",
   "name": "python",
   "nbconvert_exporter": "python",
   "pygments_lexer": "ipython3",
   "version": "3.6.7"
  }
 },
 "nbformat": 4,
 "nbformat_minor": 4
}
